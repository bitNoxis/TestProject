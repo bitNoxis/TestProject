{
 "cells": [
  {
   "cell_type": "code",
   "execution_count": null,
   "id": "944faaa2-fbad-4517-8408-8cf904ceb143",
   "metadata": {},
   "outputs": [],
   "source": []
  }
 ],
 "metadata": {
  "kernelspec": {
   "display_name": "",
   "name": ""
  },
  "language_info": {
   "name": ""
  }
 },
 "nbformat": 4,
 "nbformat_minor": 5
}
