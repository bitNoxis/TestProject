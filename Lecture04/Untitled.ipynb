{
 "cells": [
  {
   "cell_type": "code",
   "execution_count": 13,
   "id": "8f7edaad-1ab4-4ee2-ac48-30dade4f682b",
   "metadata": {},
   "outputs": [],
   "source": [
    "import segno \n",
    "\n",
    "qrcode = segno.make_qr(\"Hello, World\")\n",
    "qrcode.save(\"images/my_basic_qrcode.png\")"
   ]
  },
  {
   "cell_type": "code",
   "execution_count": 26,
   "id": "b58d5dff-d801-48bc-842a-aa1a1310f90e",
   "metadata": {},
   "outputs": [],
   "source": [
    "qrcode.to_pil(scale=5, dark=\"darkred\", light=\"ccc\", data_dark=\"blue\", data_light=\"green\").save(\"images/my_basic_qrcode.png\")"
   ]
  },
  {
   "cell_type": "code",
   "execution_count": 27,
   "id": "eaf9c4b9-b151-464a-91f6-545869a35fc2",
   "metadata": {},
   "outputs": [
    {
     "data": {
      "image/png": "[encoded data removed]",
      "text/plain": [
       "<PIL.PngImagePlugin.PngImageFile image mode=P size=145x145>"
      ]
     },
     "execution_count": 27,
     "metadata": {},
     "output_type": "execute_result"
    }
   ],
   "source": [
    "qrcode.to_pil(scale=5, dark=\"darkred\", light=\"ccc\", data_dark=\"blue\", data_light=\"green\")"
   ]
  },
  {
   "cell_type": "code",
   "execution_count": 37,
   "id": "06145363-c485-47b5-90fa-ab9a474450c7",
   "metadata": {},
   "outputs": [
    {
     "data": {
      "image/png": "[encoded data removed]",
      "text/plain": [
       "<PIL.Image.Image image mode=P size=149x149>"
      ]
     },
     "execution_count": 37,
     "metadata": {},
     "output_type": "execute_result"
    }
   ],
   "source": [
    "qrcode.to_pil(border=0,scale=5,dark=\"yellow\", light=\"pink\").rotate(45, expand=True)"
   ]
  },
  {
   "cell_type": "code",
   "execution_count": 39,
   "id": "f95be40b-54df-4595-b563-fedfd23b0451",
   "metadata": {},
   "outputs": [],
   "source": [
    "new_qrcode = segno.make_qr(\"HelloWorld\")"
   ]
  },
  {
   "cell_type": "code",
   "execution_count": 40,
   "id": "ff23b91c-decb-4d5a-aef4-4423fbcaa8c3",
   "metadata": {},
   "outputs": [
    {
     "data": {
      "image/jpeg": "[encoded data removed]",
      "image/png": "[encoded data removed]",
      "text/plain": [
       "<PIL.PngImagePlugin.PngImageFile image mode=1 size=29x29>"
      ]
     },
     "execution_count": 40,
     "metadata": {},
     "output_type": "execute_result"
    }
   ],
   "source": [
    "new_qrcode.to_pil()"
   ]
  },
  {
   "cell_type": "code",
   "execution_count": 1,
   "id": "2322e3c3-7c31-4ea9-8e22-ff5c4e19b275",
   "metadata": {},
   "outputs": [],
   "source": [
    "from urllib.request import urlopen\n",
    "\n",
    "google_url = urlopen(\"https://i.giphy.com/media/v1.Y2lkPTc5MGI3NjExc3B0cnRqZnpxN3IydmR4NWh6aGR2Z2s1MzljZXl3c3EzMDR4bDhjeiZlcD12MV9pbnRlcm5hbF9naWZfYnlfaWQmY3Q9Zw/MRDICUC5enJy8/giphy.gif\")"
   ]
  },
  {
   "cell_type": "code",
   "execution_count": 2,
   "id": "e5f5a0cf-5fcd-4f5b-86eb-2dfb7195af45",
   "metadata": {},
   "outputs": [
    {
     "ename": "NameError",
     "evalue": "name 'new_qrcode' is not defined",
     "output_type": "error",
     "traceback": [
      "\u001b[1;31m---------------------------------------------------------------------------\u001b[0m",
      "\u001b[1;31mNameError\u001b[0m                                 Traceback (most recent call last)",
      "Cell \u001b[1;32mIn[2], line 1\u001b[0m\n\u001b[1;32m----> 1\u001b[0m \u001b[43mnew_qrcode\u001b[49m\u001b[38;5;241m.\u001b[39mto_artistic(background\u001b[38;5;241m=\u001b[39mgoogle_url,scale\u001b[38;5;241m=\u001b[39m\u001b[38;5;241m20\u001b[39m,target\u001b[38;5;241m=\u001b[39m\u001b[38;5;124m\"\u001b[39m\u001b[38;5;124mimages/qrcode.gif\u001b[39m\u001b[38;5;124m\"\u001b[39m)\n",
      "\u001b[1;31mNameError\u001b[0m: name 'new_qrcode' is not defined"
     ]
    }
   ],
   "source": [
    "new_qrcode.to_artistic(background=google_url,scale=20,target=\"images/qrcode.gif\")"
   ]
  },
  {
   "cell_type": "code",
   "execution_count": null,
   "id": "ab7402fb-d693-4eff-a6af-fb7d79fa25af",
   "metadata": {},
   "outputs": [],
   "source": []
  }
 ],
 "metadata": {
  "kernelspec": {
   "display_name": "Python 3 (ipykernel)",
   "language": "python",
   "name": "python3"
  },
  "language_info": {
   "codemirror_mode": {
    "name": "ipython",
    "version": 3
   },
   "file_extension": ".py",
   "mimetype": "text/x-python",
   "name": "python",
   "nbconvert_exporter": "python",
   "pygments_lexer": "ipython3",
   "version": "3.12.7"
  }
 },
 "nbformat": 4,
 "nbformat_minor": 5
}
